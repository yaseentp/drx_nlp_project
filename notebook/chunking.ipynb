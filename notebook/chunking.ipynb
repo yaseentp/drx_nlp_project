{
 "cells": [
  {
   "cell_type": "code",
   "execution_count": null,
   "id": "235754d4",
   "metadata": {},
   "outputs": [],
   "source": [
    "import sys\n",
    "sys.path.append(\"..\")\n",
    "import tiktoken\n",
    "from typing import List\n",
    "from scripts.chunkingAlgorithm import HierarchicalChunker\n",
    "from scripts.chunkingAlgorithm import merge_text\n",
    "from scripts.config import EXTRACTED_DATA_PATH\n",
    "from scripts.config import CHUNKS_PATH\n",
    "\n",
    "cl100k_base = tiktoken.get_encoding(\"cl100k_base\")\n",
    "chunker = HierarchicalChunker(max_tokens=500, model=cl100k_base)"
   ]
  },
  {
   "cell_type": "code",
   "execution_count": null,
   "id": "c24ca0dc",
   "metadata": {},
   "outputs": [],
   "source": [
    "import json\n",
    "from pathlib import Path\n",
    "from tqdm import tqdm\n",
    "\n",
    "def process_directory(input_dir: str, output_dir: str, chunker: HierarchicalChunker):\n",
    "    input_path = Path(input_dir)\n",
    "    output_path = Path(output_dir)\n",
    "    output_path.mkdir(parents=True, exist_ok=True)\n",
    "\n",
    "    for file in tqdm(list(input_path.glob(\"*.json\")), desc=\"Processing files\"):\n",
    "        try:\n",
    "            with open(file, \"r\", encoding=\"utf-8\") as f:\n",
    "                structured_data = json.load(f)\n",
    "\n",
    "            # Try chunking\n",
    "            chunks = chunker.chunk(structured_data)\n",
    "\n",
    "            file_data = []\n",
    "            for i, chunk in enumerate(chunks):\n",
    "                merged_text = merge_text(chunk[\"content\"])\n",
    "                output_data = {\n",
    "                    \"file_source\": file.name,\n",
    "                    \"page_numbers\": chunk.get(\"page_numbers\", []),\n",
    "                    \"chunk_number\": i,\n",
    "                    \"text\": merged_text\n",
    "                }\n",
    "                file_data.append(output_data)\n",
    "\n",
    "            # Save output\n",
    "            output_file = output_path / f\"{file.stem}.json\"\n",
    "            with open(output_file, \"w\", encoding=\"utf-8\") as out:\n",
    "                json.dump(file_data, out, ensure_ascii=False, indent=2)\n",
    "\n",
    "        except Exception as e:\n",
    "            print(f\"Error processing {file.name}: {e}\")\n"
   ]
  },
  {
   "cell_type": "code",
   "execution_count": null,
   "id": "43d349e1",
   "metadata": {},
   "outputs": [],
   "source": [
    "chunker = HierarchicalChunker(max_tokens=500, model=cl100k_base)\n",
    "process_directory(EXTRACTED_DATA_PATH, CHUNKS_PATH, chunker)"
   ]
  }
 ],
 "metadata": {
  "kernelspec": {
   "display_name": "venv",
   "language": "python",
   "name": "python3"
  },
  "language_info": {
   "codemirror_mode": {
    "name": "ipython",
    "version": 3
   },
   "file_extension": ".py",
   "mimetype": "text/x-python",
   "name": "python",
   "nbconvert_exporter": "python",
   "pygments_lexer": "ipython3",
   "version": "3.12.8"
  }
 },
 "nbformat": 4,
 "nbformat_minor": 5
}
