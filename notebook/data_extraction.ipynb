{
 "cells": [
  {
   "cell_type": "code",
   "execution_count": null,
   "id": "8eec8228",
   "metadata": {},
   "outputs": [],
   "source": [
    "import os\n",
    "import json\n",
    "from datetime import datetime\n",
    "from pathlib import Path\n",
    "import sys\n",
    "sys.path.append('..')\n",
    "from scripts.config import DATA_PATH\n",
    "from scripts.config import EXTRACTED_DATA_PATH\n",
    "from scripts.filehandler import detect_file_type_and_extract_text"
   ]
  },
  {
   "cell_type": "code",
   "execution_count": null,
   "id": "30371b22",
   "metadata": {},
   "outputs": [],
   "source": [
    "def extract_data(input_dir, output_dir):\n",
    "    os.makedirs(output_dir, exist_ok=True)\n",
    "\n",
    "    for file in os.listdir(input_dir):\n",
    "        file_path = os.path.join(input_dir, file)\n",
    "        if os.path.isfile(file_path):\n",
    "            try:\n",
    "                text = detect_file_type_and_extract_text(file_path)\n",
    "\n",
    "                result = text\n",
    "\n",
    "                file_base_name = Path(file).stem\n",
    "                json_file_path = os.path.join(output_dir, f\"{file_base_name}.json\")\n",
    "\n",
    "                with open(json_file_path, 'w', encoding='utf-8') as f:\n",
    "                    json.dump(result, f, ensure_ascii=False, indent=2)\n",
    "\n",
    "                print(f\"Saved: {json_file_path}\")\n",
    "            except Exception as e:\n",
    "                print(f\"Failed to process {file}: {e}\")"
   ]
  },
  {
   "cell_type": "code",
   "execution_count": null,
   "id": "1a3b1bbc",
   "metadata": {},
   "outputs": [],
   "source": [
    "extract_data(DATA_PATH, EXTRACTED_DATA_PATH)"
   ]
  }
 ],
 "metadata": {
  "kernelspec": {
   "display_name": "venv",
   "language": "python",
   "name": "python3"
  },
  "language_info": {
   "codemirror_mode": {
    "name": "ipython",
    "version": 3
   },
   "file_extension": ".py",
   "mimetype": "text/x-python",
   "name": "python",
   "nbconvert_exporter": "python",
   "pygments_lexer": "ipython3",
   "version": "3.12.8"
  }
 },
 "nbformat": 4,
 "nbformat_minor": 5
}
