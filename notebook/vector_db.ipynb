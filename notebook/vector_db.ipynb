{
 "cells": [
  {
   "cell_type": "code",
   "execution_count": null,
   "id": "9a16b860",
   "metadata": {},
   "outputs": [],
   "source": [
    "import os\n",
    "import time\n",
    "import torch\n",
    "import pandas as pd\n",
    "from sentence_transformers import SentenceTransformer\n",
    "from chromadb.api.types import Documents, EmbeddingFunction, Embeddings\n",
    "from typing import List\n",
    "import sys\n",
    "sys.path.append(\"..\")\n",
    "from scripts.config import CHUNKS_PATH\n",
    "from scripts.config import DATA_PATH\n",
    "from scripts.chromaDB_handler import ChromaDataManager\n",
    "import chromadb\n",
    "import os\n",
    "from scripts.chromaDB_handler import add_to_chroma_batched\n",
    "\n"
   ]
  },
  {
   "cell_type": "code",
   "execution_count": null,
   "id": "7accaba5",
   "metadata": {},
   "outputs": [],
   "source": [
    "chromadb.PersistentClient(path=os.path.join(DATA_PATH, \"chromadb\")).delete_collection(name=\"textCollection\")"
   ]
  },
  {
   "cell_type": "code",
   "execution_count": null,
   "id": "4f6cc655",
   "metadata": {},
   "outputs": [],
   "source": [
    "device = 'cuda' if torch.cuda.is_available() else 'cpu'\n",
    "model_path = \"nomic-ai/nomic-embed-text-v1\"\n",
    "data_manager = ChromaDataManager(model_path=model_path, collection_name='textCollection', data_path=DATA_PATH, device=device)"
   ]
  },
  {
   "cell_type": "code",
   "execution_count": null,
   "id": "409f0ed0",
   "metadata": {},
   "outputs": [],
   "source": [
    "# Define columns\n",
    "import uuid\n",
    "import json\n",
    "document_column = 'text'\n",
    "est_meta_cols = ['chunk_number','file_source']\n",
    "\n",
    "batch_size = 1000\n",
    "def process_and_upload_all_jsons(\n",
    "    input_dir: str):\n",
    "\n",
    "    for file_name in os.listdir(input_dir):\n",
    "        if file_name.endswith(\".json\"):\n",
    "            file_path = os.path.join(input_dir, file_name)\n",
    "            try:\n",
    "                with open(file_path, 'r', encoding='utf-8') as f:\n",
    "                    json_data = json.load(f)\n",
    "\n",
    "                \n",
    "                file_source = file_name.split('.')[0]\n",
    "\n",
    "                df = pd.DataFrame(json_data)\n",
    "\n",
    "                add_to_chroma_batched(data_manager, df, doc_col='text', meta_cols=['chunk_number', 'file_source'], batch_size=batch_size, file_id=file_source)\n",
    "\n",
    "            except Exception as e:\n",
    "                print(f\"Error processing file {file_name}: {e}\")\n",
    "                continue\n",
    "    return True"
   ]
  },
  {
   "cell_type": "code",
   "execution_count": null,
   "id": "558a6836",
   "metadata": {},
   "outputs": [],
   "source": [
    "process_and_upload_all_jsons(CHUNKS_PATH)"
   ]
  },
  {
   "cell_type": "code",
   "execution_count": null,
   "id": "e0e3cc59",
   "metadata": {},
   "outputs": [],
   "source": [
    "# vector search on collection using a query\n",
    "data_manager.search_vector_store(\"search: what are the two ways the total cost calculated\", n_results=1)"
   ]
  }
 ],
 "metadata": {
  "kernelspec": {
   "display_name": "venv",
   "language": "python",
   "name": "python3"
  },
  "language_info": {
   "codemirror_mode": {
    "name": "ipython",
    "version": 3
   },
   "file_extension": ".py",
   "mimetype": "text/x-python",
   "name": "python",
   "nbconvert_exporter": "python",
   "pygments_lexer": "ipython3",
   "version": "3.12.8"
  }
 },
 "nbformat": 4,
 "nbformat_minor": 5
}
